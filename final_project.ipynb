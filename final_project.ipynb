{
 "cells": [
  {
   "cell_type": "code",
   "execution_count": null,
   "metadata": {},
   "outputs": [],
   "source": []
  },
  {
   "cell_type": "code",
   "execution_count": 2,
   "metadata": {},
   "outputs": [
    {
     "name": "stdout",
     "output_type": "stream",
     "text": [
      "C:\\Users\\meira\\OneDrive - University of Florida\\Fall_2020\\Water_Risk_Extreme_Events_Serafin\\final_project\n"
     ]
    },
    {
     "data": {
      "text/plain": [
       "['.ipynb_checkpoints',\n",
       " 'daily_precip.png',\n",
       " 'daily_precip_frequency.png',\n",
       " 'data_download_williamson.docx',\n",
       " 'final_presentation.pptx',\n",
       " 'final_project.ipynb',\n",
       " 'final_project_R.ipynb',\n",
       " 'GEO4285_Presentation_Student_Evaluation_williamson.docx',\n",
       " 'inClassExample_seasonal (1).R',\n",
       " 'Inkedmadison_wi_LI.jpg',\n",
       " 'intro_methods_williamson.docx',\n",
       " 'kmsn.csv',\n",
       " 'kmsn_1.csv',\n",
       " 'kmsn_2.csv',\n",
       " 'likelihoodRatioTest_Gumbel.R',\n",
       " 'madison_wi.png',\n",
       " 'nonstationaryEV_inClass_allsolutions.R']"
      ]
     },
     "execution_count": 2,
     "metadata": {},
     "output_type": "execute_result"
    }
   ],
   "source": [
    "import os\n",
    "\n",
    "# Retrieve current working directory (`cwd`)\n",
    "cwd = os.getcwd()\n",
    "print(cwd)\n",
    "\n",
    "# Change directory\n",
    "os.chdir(r\"C:\\Users\\meira\\OneDrive - University of Florida\\Fall_2020\\Water_Risk_Extreme_Events_Serafin\\final_project\")\n",
    "\n",
    "# List all files and directories in current directory\n",
    "os.listdir('.')"
   ]
  },
  {
   "cell_type": "code",
   "execution_count": 3,
   "metadata": {},
   "outputs": [],
   "source": [
    "import pandas as pd\n",
    "import numpy as np\n",
    "import matplotlib.pyplot as plt\n",
    "import scipy\n",
    "import scipy.stats as st\n",
    "from scipy.stats._continuous_distns import _distn_names\n",
    "from scipy.optimize import curve_fit\n"
   ]
  },
  {
   "cell_type": "code",
   "execution_count": 4,
   "metadata": {},
   "outputs": [],
   "source": [
    "# set plot parameter sizes\n",
    "plt.rcParams['axes.titlesize']=24\n",
    "plt.rcParams['axes.labelsize'] =20\n",
    "plt.rcParams['ytick.labelsize'] =18\n",
    "plt.rcParams['xtick.labelsize']=18\n",
    "plt.rcParams[\"figure.figsize\"] = [16,9]\n"
   ]
  },
  {
   "cell_type": "code",
   "execution_count": 5,
   "metadata": {},
   "outputs": [
    {
     "data": {
      "text/plain": [
       "Index(['STATION', 'NAME', 'DATE', 'PRCP'], dtype='object')"
      ]
     },
     "execution_count": 5,
     "metadata": {},
     "output_type": "execute_result"
    }
   ],
   "source": [
    "# read in data\n",
    "kmsn=pd.read_csv('kmsn.csv')\n",
    "kmsn.keys()"
   ]
  },
  {
   "cell_type": "code",
   "execution_count": 6,
   "metadata": {},
   "outputs": [],
   "source": [
    "# set local prcp value; drop all zeros\n",
    "prcp=kmsn['PRCP']\n",
    "kmsn_0=kmsn[kmsn['PRCP']!=0]\n",
    "prcp_0=kmsn_0['PRCP']\n",
    "date=kmsn['DATE']\n",
    "prcp_0\n",
    "\n",
    "kmsn['year']=kmsn['DATE'].str.strip().str[:4]\n",
    "kmsn['month']=kmsn['DATE'].str.strip().str[5:7]"
   ]
  },
  {
   "cell_type": "code",
   "execution_count": 7,
   "metadata": {},
   "outputs": [
    {
     "data": {
      "text/html": [
       "<div>\n",
       "<style scoped>\n",
       "    .dataframe tbody tr th:only-of-type {\n",
       "        vertical-align: middle;\n",
       "    }\n",
       "\n",
       "    .dataframe tbody tr th {\n",
       "        vertical-align: top;\n",
       "    }\n",
       "\n",
       "    .dataframe thead th {\n",
       "        text-align: right;\n",
       "    }\n",
       "</style>\n",
       "<table border=\"1\" class=\"dataframe\">\n",
       "  <thead>\n",
       "    <tr style=\"text-align: right;\">\n",
       "      <th></th>\n",
       "      <th>STATION</th>\n",
       "      <th>NAME</th>\n",
       "      <th>DATE</th>\n",
       "      <th>PRCP</th>\n",
       "      <th>year</th>\n",
       "      <th>month</th>\n",
       "    </tr>\n",
       "  </thead>\n",
       "  <tbody>\n",
       "    <tr>\n",
       "      <th>20622</th>\n",
       "      <td>USW00014837</td>\n",
       "      <td>MADISON DANE CO REGIONAL AIRPORT, WI US</td>\n",
       "      <td>1996-06-17</td>\n",
       "      <td>4.51</td>\n",
       "      <td>1996</td>\n",
       "      <td>06</td>\n",
       "    </tr>\n",
       "    <tr>\n",
       "      <th>616</th>\n",
       "      <td>USW00014837</td>\n",
       "      <td>MADISON DANE CO REGIONAL AIRPORT, WI US</td>\n",
       "      <td>1941-09-08</td>\n",
       "      <td>4.32</td>\n",
       "      <td>1941</td>\n",
       "      <td>09</td>\n",
       "    </tr>\n",
       "    <tr>\n",
       "      <th>24996</th>\n",
       "      <td>USW00014837</td>\n",
       "      <td>MADISON DANE CO REGIONAL AIRPORT, WI US</td>\n",
       "      <td>2008-06-08</td>\n",
       "      <td>4.11</td>\n",
       "      <td>2008</td>\n",
       "      <td>06</td>\n",
       "    </tr>\n",
       "    <tr>\n",
       "      <th>12967</th>\n",
       "      <td>USW00014837</td>\n",
       "      <td>MADISON DANE CO REGIONAL AIRPORT, WI US</td>\n",
       "      <td>1975-07-03</td>\n",
       "      <td>3.89</td>\n",
       "      <td>1975</td>\n",
       "      <td>07</td>\n",
       "    </tr>\n",
       "    <tr>\n",
       "      <th>28721</th>\n",
       "      <td>USW00014837</td>\n",
       "      <td>MADISON DANE CO REGIONAL AIRPORT, WI US</td>\n",
       "      <td>2018-08-20</td>\n",
       "      <td>3.78</td>\n",
       "      <td>2018</td>\n",
       "      <td>08</td>\n",
       "    </tr>\n",
       "    <tr>\n",
       "      <th>19544</th>\n",
       "      <td>USW00014837</td>\n",
       "      <td>MADISON DANE CO REGIONAL AIRPORT, WI US</td>\n",
       "      <td>1993-07-05</td>\n",
       "      <td>3.75</td>\n",
       "      <td>1993</td>\n",
       "      <td>07</td>\n",
       "    </tr>\n",
       "    <tr>\n",
       "      <th>25467</th>\n",
       "      <td>USW00014837</td>\n",
       "      <td>MADISON DANE CO REGIONAL AIRPORT, WI US</td>\n",
       "      <td>2009-09-22</td>\n",
       "      <td>3.67</td>\n",
       "      <td>2009</td>\n",
       "      <td>09</td>\n",
       "    </tr>\n",
       "    <tr>\n",
       "      <th>8556</th>\n",
       "      <td>USW00014837</td>\n",
       "      <td>MADISON DANE CO REGIONAL AIRPORT, WI US</td>\n",
       "      <td>1963-06-05</td>\n",
       "      <td>3.67</td>\n",
       "      <td>1963</td>\n",
       "      <td>06</td>\n",
       "    </tr>\n",
       "    <tr>\n",
       "      <th>23517</th>\n",
       "      <td>USW00014837</td>\n",
       "      <td>MADISON DANE CO REGIONAL AIRPORT, WI US</td>\n",
       "      <td>2004-05-21</td>\n",
       "      <td>3.66</td>\n",
       "      <td>2004</td>\n",
       "      <td>05</td>\n",
       "    </tr>\n",
       "    <tr>\n",
       "      <th>3852</th>\n",
       "      <td>USW00014837</td>\n",
       "      <td>MADISON DANE CO REGIONAL AIRPORT, WI US</td>\n",
       "      <td>1950-07-19</td>\n",
       "      <td>3.65</td>\n",
       "      <td>1950</td>\n",
       "      <td>07</td>\n",
       "    </tr>\n",
       "  </tbody>\n",
       "</table>\n",
       "</div>"
      ],
      "text/plain": [
       "           STATION                                     NAME        DATE  PRCP  \\\n",
       "20622  USW00014837  MADISON DANE CO REGIONAL AIRPORT, WI US  1996-06-17  4.51   \n",
       "616    USW00014837  MADISON DANE CO REGIONAL AIRPORT, WI US  1941-09-08  4.32   \n",
       "24996  USW00014837  MADISON DANE CO REGIONAL AIRPORT, WI US  2008-06-08  4.11   \n",
       "12967  USW00014837  MADISON DANE CO REGIONAL AIRPORT, WI US  1975-07-03  3.89   \n",
       "28721  USW00014837  MADISON DANE CO REGIONAL AIRPORT, WI US  2018-08-20  3.78   \n",
       "19544  USW00014837  MADISON DANE CO REGIONAL AIRPORT, WI US  1993-07-05  3.75   \n",
       "25467  USW00014837  MADISON DANE CO REGIONAL AIRPORT, WI US  2009-09-22  3.67   \n",
       "8556   USW00014837  MADISON DANE CO REGIONAL AIRPORT, WI US  1963-06-05  3.67   \n",
       "23517  USW00014837  MADISON DANE CO REGIONAL AIRPORT, WI US  2004-05-21  3.66   \n",
       "3852   USW00014837  MADISON DANE CO REGIONAL AIRPORT, WI US  1950-07-19  3.65   \n",
       "\n",
       "       year month  \n",
       "20622  1996    06  \n",
       "616    1941    09  \n",
       "24996  2008    06  \n",
       "12967  1975    07  \n",
       "28721  2018    08  \n",
       "19544  1993    07  \n",
       "25467  2009    09  \n",
       "8556   1963    06  \n",
       "23517  2004    05  \n",
       "3852   1950    07  "
      ]
     },
     "execution_count": 7,
     "metadata": {},
     "output_type": "execute_result"
    }
   ],
   "source": [
    "# sort prcp descending\n",
    "kmsn.sort_values(by=['PRCP'],ascending=False,inplace=False).head(10)"
   ]
  },
  {
   "cell_type": "code",
   "execution_count": 8,
   "metadata": {},
   "outputs": [
    {
     "data": {
      "text/html": [
       "<div>\n",
       "<style scoped>\n",
       "    .dataframe tbody tr th:only-of-type {\n",
       "        vertical-align: middle;\n",
       "    }\n",
       "\n",
       "    .dataframe tbody tr th {\n",
       "        vertical-align: top;\n",
       "    }\n",
       "\n",
       "    .dataframe thead th {\n",
       "        text-align: right;\n",
       "    }\n",
       "</style>\n",
       "<table border=\"1\" class=\"dataframe\">\n",
       "  <thead>\n",
       "    <tr style=\"text-align: right;\">\n",
       "      <th></th>\n",
       "      <th>STATION</th>\n",
       "      <th>NAME</th>\n",
       "      <th>DATE</th>\n",
       "      <th>PRCP</th>\n",
       "      <th>year</th>\n",
       "      <th>month</th>\n",
       "    </tr>\n",
       "  </thead>\n",
       "  <tbody>\n",
       "    <tr>\n",
       "      <th>173</th>\n",
       "      <td>USW00014837</td>\n",
       "      <td>MADISON DANE CO REGIONAL AIRPORT, WI US</td>\n",
       "      <td>1940-06-22</td>\n",
       "      <td>3.05</td>\n",
       "      <td>1940</td>\n",
       "      <td>06</td>\n",
       "    </tr>\n",
       "    <tr>\n",
       "      <th>616</th>\n",
       "      <td>USW00014837</td>\n",
       "      <td>MADISON DANE CO REGIONAL AIRPORT, WI US</td>\n",
       "      <td>1941-09-08</td>\n",
       "      <td>4.32</td>\n",
       "      <td>1941</td>\n",
       "      <td>09</td>\n",
       "    </tr>\n",
       "    <tr>\n",
       "      <th>939</th>\n",
       "      <td>USW00014837</td>\n",
       "      <td>MADISON DANE CO REGIONAL AIRPORT, WI US</td>\n",
       "      <td>1942-07-28</td>\n",
       "      <td>2.14</td>\n",
       "      <td>1942</td>\n",
       "      <td>07</td>\n",
       "    </tr>\n",
       "    <tr>\n",
       "      <th>1405</th>\n",
       "      <td>USW00014837</td>\n",
       "      <td>MADISON DANE CO REGIONAL AIRPORT, WI US</td>\n",
       "      <td>1943-11-06</td>\n",
       "      <td>1.68</td>\n",
       "      <td>1943</td>\n",
       "      <td>11</td>\n",
       "    </tr>\n",
       "    <tr>\n",
       "      <th>1574</th>\n",
       "      <td>USW00014837</td>\n",
       "      <td>MADISON DANE CO REGIONAL AIRPORT, WI US</td>\n",
       "      <td>1944-04-23</td>\n",
       "      <td>1.14</td>\n",
       "      <td>1944</td>\n",
       "      <td>04</td>\n",
       "    </tr>\n",
       "    <tr>\n",
       "      <th>...</th>\n",
       "      <td>...</td>\n",
       "      <td>...</td>\n",
       "      <td>...</td>\n",
       "      <td>...</td>\n",
       "      <td>...</td>\n",
       "      <td>...</td>\n",
       "    </tr>\n",
       "    <tr>\n",
       "      <th>27653</th>\n",
       "      <td>USW00014837</td>\n",
       "      <td>MADISON DANE CO REGIONAL AIRPORT, WI US</td>\n",
       "      <td>2015-09-17</td>\n",
       "      <td>2.15</td>\n",
       "      <td>2015</td>\n",
       "      <td>09</td>\n",
       "    </tr>\n",
       "    <tr>\n",
       "      <th>27961</th>\n",
       "      <td>USW00014837</td>\n",
       "      <td>MADISON DANE CO REGIONAL AIRPORT, WI US</td>\n",
       "      <td>2016-07-21</td>\n",
       "      <td>2.79</td>\n",
       "      <td>2016</td>\n",
       "      <td>07</td>\n",
       "    </tr>\n",
       "    <tr>\n",
       "      <th>28352</th>\n",
       "      <td>USW00014837</td>\n",
       "      <td>MADISON DANE CO REGIONAL AIRPORT, WI US</td>\n",
       "      <td>2017-08-16</td>\n",
       "      <td>1.68</td>\n",
       "      <td>2017</td>\n",
       "      <td>08</td>\n",
       "    </tr>\n",
       "    <tr>\n",
       "      <th>28721</th>\n",
       "      <td>USW00014837</td>\n",
       "      <td>MADISON DANE CO REGIONAL AIRPORT, WI US</td>\n",
       "      <td>2018-08-20</td>\n",
       "      <td>3.78</td>\n",
       "      <td>2018</td>\n",
       "      <td>08</td>\n",
       "    </tr>\n",
       "    <tr>\n",
       "      <th>29128</th>\n",
       "      <td>USW00014837</td>\n",
       "      <td>MADISON DANE CO REGIONAL AIRPORT, WI US</td>\n",
       "      <td>2019-10-01</td>\n",
       "      <td>2.40</td>\n",
       "      <td>2019</td>\n",
       "      <td>10</td>\n",
       "    </tr>\n",
       "  </tbody>\n",
       "</table>\n",
       "<p>80 rows × 6 columns</p>\n",
       "</div>"
      ],
      "text/plain": [
       "           STATION                                     NAME        DATE  PRCP  \\\n",
       "173    USW00014837  MADISON DANE CO REGIONAL AIRPORT, WI US  1940-06-22  3.05   \n",
       "616    USW00014837  MADISON DANE CO REGIONAL AIRPORT, WI US  1941-09-08  4.32   \n",
       "939    USW00014837  MADISON DANE CO REGIONAL AIRPORT, WI US  1942-07-28  2.14   \n",
       "1405   USW00014837  MADISON DANE CO REGIONAL AIRPORT, WI US  1943-11-06  1.68   \n",
       "1574   USW00014837  MADISON DANE CO REGIONAL AIRPORT, WI US  1944-04-23  1.14   \n",
       "...            ...                                      ...         ...   ...   \n",
       "27653  USW00014837  MADISON DANE CO REGIONAL AIRPORT, WI US  2015-09-17  2.15   \n",
       "27961  USW00014837  MADISON DANE CO REGIONAL AIRPORT, WI US  2016-07-21  2.79   \n",
       "28352  USW00014837  MADISON DANE CO REGIONAL AIRPORT, WI US  2017-08-16  1.68   \n",
       "28721  USW00014837  MADISON DANE CO REGIONAL AIRPORT, WI US  2018-08-20  3.78   \n",
       "29128  USW00014837  MADISON DANE CO REGIONAL AIRPORT, WI US  2019-10-01  2.40   \n",
       "\n",
       "       year month  \n",
       "173    1940    06  \n",
       "616    1941    09  \n",
       "939    1942    07  \n",
       "1405   1943    11  \n",
       "1574   1944    04  \n",
       "...     ...   ...  \n",
       "27653  2015    09  \n",
       "27961  2016    07  \n",
       "28352  2017    08  \n",
       "28721  2018    08  \n",
       "29128  2019    10  \n",
       "\n",
       "[80 rows x 6 columns]"
      ]
     },
     "execution_count": 8,
     "metadata": {},
     "output_type": "execute_result"
    }
   ],
   "source": [
    "# group values by year, month\n",
    "df_year_group=kmsn.loc[kmsn.groupby(\"year\")[\"PRCP\"].idxmax()]\n",
    "df_year_group_prcp=df_year_group[\"PRCP\"]\n",
    "\n",
    "df_month_group=kmsn.loc[kmsn.groupby(\"month\")[\"PRCP\"].idxmax()]\n",
    "df_month_group_prcp=df_month_group[\"PRCP\"]\n",
    "\n",
    "df_year_group"
   ]
  },
  {
   "cell_type": "code",
   "execution_count": 9,
   "metadata": {},
   "outputs": [
    {
     "data": {
      "text/html": [
       "<div>\n",
       "<style scoped>\n",
       "    .dataframe tbody tr th:only-of-type {\n",
       "        vertical-align: middle;\n",
       "    }\n",
       "\n",
       "    .dataframe tbody tr th {\n",
       "        vertical-align: top;\n",
       "    }\n",
       "\n",
       "    .dataframe thead th {\n",
       "        text-align: right;\n",
       "    }\n",
       "</style>\n",
       "<table border=\"1\" class=\"dataframe\">\n",
       "  <thead>\n",
       "    <tr style=\"text-align: right;\">\n",
       "      <th></th>\n",
       "      <th>STATION</th>\n",
       "      <th>NAME</th>\n",
       "      <th>DATE</th>\n",
       "      <th>PRCP</th>\n",
       "      <th>year</th>\n",
       "      <th>month</th>\n",
       "    </tr>\n",
       "  </thead>\n",
       "  <tbody>\n",
       "    <tr>\n",
       "      <th>13</th>\n",
       "      <td>USW00014837</td>\n",
       "      <td>MADISON DANE CO REGIONAL AIRPORT, WI US</td>\n",
       "      <td>1940-01-14</td>\n",
       "      <td>0.50</td>\n",
       "      <td>1940</td>\n",
       "      <td>01</td>\n",
       "    </tr>\n",
       "    <tr>\n",
       "      <th>53</th>\n",
       "      <td>USW00014837</td>\n",
       "      <td>MADISON DANE CO REGIONAL AIRPORT, WI US</td>\n",
       "      <td>1940-02-23</td>\n",
       "      <td>0.43</td>\n",
       "      <td>1940</td>\n",
       "      <td>02</td>\n",
       "    </tr>\n",
       "    <tr>\n",
       "      <th>72</th>\n",
       "      <td>USW00014837</td>\n",
       "      <td>MADISON DANE CO REGIONAL AIRPORT, WI US</td>\n",
       "      <td>1940-03-13</td>\n",
       "      <td>0.48</td>\n",
       "      <td>1940</td>\n",
       "      <td>03</td>\n",
       "    </tr>\n",
       "    <tr>\n",
       "      <th>119</th>\n",
       "      <td>USW00014837</td>\n",
       "      <td>MADISON DANE CO REGIONAL AIRPORT, WI US</td>\n",
       "      <td>1940-04-29</td>\n",
       "      <td>0.92</td>\n",
       "      <td>1940</td>\n",
       "      <td>04</td>\n",
       "    </tr>\n",
       "    <tr>\n",
       "      <th>138</th>\n",
       "      <td>USW00014837</td>\n",
       "      <td>MADISON DANE CO REGIONAL AIRPORT, WI US</td>\n",
       "      <td>1940-05-18</td>\n",
       "      <td>0.70</td>\n",
       "      <td>1940</td>\n",
       "      <td>05</td>\n",
       "    </tr>\n",
       "    <tr>\n",
       "      <th>...</th>\n",
       "      <td>...</td>\n",
       "      <td>...</td>\n",
       "      <td>...</td>\n",
       "      <td>...</td>\n",
       "      <td>...</td>\n",
       "      <td>...</td>\n",
       "    </tr>\n",
       "    <tr>\n",
       "      <th>29071</th>\n",
       "      <td>USW00014837</td>\n",
       "      <td>MADISON DANE CO REGIONAL AIRPORT, WI US</td>\n",
       "      <td>2019-08-05</td>\n",
       "      <td>1.20</td>\n",
       "      <td>2019</td>\n",
       "      <td>08</td>\n",
       "    </tr>\n",
       "    <tr>\n",
       "      <th>29119</th>\n",
       "      <td>USW00014837</td>\n",
       "      <td>MADISON DANE CO REGIONAL AIRPORT, WI US</td>\n",
       "      <td>2019-09-22</td>\n",
       "      <td>1.89</td>\n",
       "      <td>2019</td>\n",
       "      <td>09</td>\n",
       "    </tr>\n",
       "    <tr>\n",
       "      <th>29128</th>\n",
       "      <td>USW00014837</td>\n",
       "      <td>MADISON DANE CO REGIONAL AIRPORT, WI US</td>\n",
       "      <td>2019-10-01</td>\n",
       "      <td>2.40</td>\n",
       "      <td>2019</td>\n",
       "      <td>10</td>\n",
       "    </tr>\n",
       "    <tr>\n",
       "      <th>29185</th>\n",
       "      <td>USW00014837</td>\n",
       "      <td>MADISON DANE CO REGIONAL AIRPORT, WI US</td>\n",
       "      <td>2019-11-27</td>\n",
       "      <td>0.71</td>\n",
       "      <td>2019</td>\n",
       "      <td>11</td>\n",
       "    </tr>\n",
       "    <tr>\n",
       "      <th>29216</th>\n",
       "      <td>USW00014837</td>\n",
       "      <td>MADISON DANE CO REGIONAL AIRPORT, WI US</td>\n",
       "      <td>2019-12-28</td>\n",
       "      <td>0.59</td>\n",
       "      <td>2019</td>\n",
       "      <td>12</td>\n",
       "    </tr>\n",
       "  </tbody>\n",
       "</table>\n",
       "<p>960 rows × 6 columns</p>\n",
       "</div>"
      ],
      "text/plain": [
       "           STATION                                     NAME        DATE  PRCP  \\\n",
       "13     USW00014837  MADISON DANE CO REGIONAL AIRPORT, WI US  1940-01-14  0.50   \n",
       "53     USW00014837  MADISON DANE CO REGIONAL AIRPORT, WI US  1940-02-23  0.43   \n",
       "72     USW00014837  MADISON DANE CO REGIONAL AIRPORT, WI US  1940-03-13  0.48   \n",
       "119    USW00014837  MADISON DANE CO REGIONAL AIRPORT, WI US  1940-04-29  0.92   \n",
       "138    USW00014837  MADISON DANE CO REGIONAL AIRPORT, WI US  1940-05-18  0.70   \n",
       "...            ...                                      ...         ...   ...   \n",
       "29071  USW00014837  MADISON DANE CO REGIONAL AIRPORT, WI US  2019-08-05  1.20   \n",
       "29119  USW00014837  MADISON DANE CO REGIONAL AIRPORT, WI US  2019-09-22  1.89   \n",
       "29128  USW00014837  MADISON DANE CO REGIONAL AIRPORT, WI US  2019-10-01  2.40   \n",
       "29185  USW00014837  MADISON DANE CO REGIONAL AIRPORT, WI US  2019-11-27  0.71   \n",
       "29216  USW00014837  MADISON DANE CO REGIONAL AIRPORT, WI US  2019-12-28  0.59   \n",
       "\n",
       "       year month  \n",
       "13     1940    01  \n",
       "53     1940    02  \n",
       "72     1940    03  \n",
       "119    1940    04  \n",
       "138    1940    05  \n",
       "...     ...   ...  \n",
       "29071  2019    08  \n",
       "29119  2019    09  \n",
       "29128  2019    10  \n",
       "29185  2019    11  \n",
       "29216  2019    12  \n",
       "\n",
       "[960 rows x 6 columns]"
      ]
     },
     "execution_count": 9,
     "metadata": {},
     "output_type": "execute_result"
    }
   ],
   "source": [
    "#create new df of monthly and yearly grouped prcp data\n",
    "month_year=kmsn.loc[kmsn.groupby([\"year\", \"month\"])[\"PRCP\"].idxmax()]\n",
    "month_year"
   ]
  },
  {
   "cell_type": "code",
   "execution_count": 15,
   "metadata": {},
   "outputs": [
    {
     "name": "stderr",
     "output_type": "stream",
     "text": [
      "<ipython-input-15-c103ba6e8220>:4: UserWarning: FixedFormatter should only be used together with FixedLocator\n",
      "  ax.set_xticklabels([1940,1950,1960,1970,1980,1990,2000,2010,2020])\n"
     ]
    },
    {
     "data": {
      "text/plain": [
       "[<matplotlib.lines.Line2D at 0x12e818cb5b0>]"
      ]
     },
     "execution_count": 15,
     "metadata": {},
     "output_type": "execute_result"
    },
    {
     "data": {
      "image/png": "[encoded data removed]",
      "text/plain": [
       "<Figure size 1080x576 with 1 Axes>"
      ]
     },
     "metadata": {
      "needs_background": "light"
     },
     "output_type": "display_data"
    }
   ],
   "source": [
    "# graph data with best fit linear trend line\n",
    "fig,ax=plt.subplots(figsize=(15,8))\n",
    "ax.set_title('Monthly maximum precipitation (1940-2019)',fontsize=18)\n",
    "#ax.set_xticks(xticks)\n",
    "ax.set_xticklabels([1940,1950,1960,1970,1980,1990,2000,2010,2020])\n",
    "ax.set_xlabel('year')\n",
    "ax.set_ylabel('precipitation (in)')\n",
    "ax.plot(month_year[\"PRCP\"][800:960],color='navy')\n",
    "ax.plot(m*month_year[\"PRCP\"]+b, color='goldenrod',linewidth=5)"
   ]
  },
  {
   "cell_type": "code",
   "execution_count": 12,
   "metadata": {},
   "outputs": [],
   "source": [
    "# loop for line\n",
    "y=[]\n",
    "i=1\n",
    "while i <961:\n",
    "    y.append(i)\n",
    "    i+=1"
   ]
  },
  {
   "cell_type": "code",
   "execution_count": 13,
   "metadata": {},
   "outputs": [],
   "source": [
    "# slope, interecept\n",
    "m, b = np.polyfit(y[800:960],month_year[\"PRCP\"][800:960], 1)\n"
   ]
  },
  {
   "cell_type": "code",
   "execution_count": null,
   "metadata": {},
   "outputs": [],
   "source": []
  },
  {
   "cell_type": "code",
   "execution_count": null,
   "metadata": {},
   "outputs": [],
   "source": []
  },
  {
   "cell_type": "code",
   "execution_count": 32,
   "metadata": {},
   "outputs": [
    {
     "data": {
      "text/plain": [
       "month\n",
       "01    0.126683\n",
       "02    0.145159\n",
       "03    0.200105\n",
       "04    0.271209\n",
       "05    0.288736\n",
       "06    0.392186\n",
       "07    0.405712\n",
       "08    0.410013\n",
       "09    0.353096\n",
       "10    0.259441\n",
       "11    0.217156\n",
       "12    0.170797\n",
       "Name: PRCP, dtype: float64"
      ]
     },
     "execution_count": 32,
     "metadata": {},
     "output_type": "execute_result"
    }
   ],
   "source": [
    "# find mean monthly prcp excluding zeros\n",
    "prcp_0_mean=kmsn_0.groupby(\"month\")[\"PRCP\"].mean()\n",
    "prcp_0_mean"
   ]
  },
  {
   "cell_type": "code",
   "execution_count": 33,
   "metadata": {},
   "outputs": [
    {
     "data": {
      "text/plain": [
       "month\n",
       "01    0.041427\n",
       "02    0.044575\n",
       "03    0.069149\n",
       "04    0.105658\n",
       "05    0.114214\n",
       "06    0.144292\n",
       "07    0.126294\n",
       "08    0.125815\n",
       "09    0.107400\n",
       "10    0.076681\n",
       "11    0.070937\n",
       "12    0.053581\n",
       "Name: PRCP, dtype: float64"
      ]
     },
     "execution_count": 33,
     "metadata": {},
     "output_type": "execute_result"
    }
   ],
   "source": [
    "# find mean monthly prcp including zeros\n",
    "prcp_mean=kmsn.groupby(\"month\")[\"PRCP\"].mean()\n",
    "prcp_mean"
   ]
  },
  {
   "cell_type": "code",
   "execution_count": null,
   "metadata": {},
   "outputs": [],
   "source": []
  },
  {
   "cell_type": "code",
   "execution_count": 57,
   "metadata": {},
   "outputs": [
    {
     "data": {
      "text/plain": [
       "Text(0.5, 1.01, 'Average monthly precipitation')"
      ]
     },
     "execution_count": 57,
     "metadata": {},
     "output_type": "execute_result"
    },
    {
     "data": {
      "image/png": "[encoded data removed]",
      "text/plain": [
       "<Figure size 1152x648 with 1 Axes>"
      ]
     },
     "metadata": {
      "needs_background": "light"
     },
     "output_type": "display_data"
    }
   ],
   "source": [
    "# graph mean monthly prcp excl zeros\n",
    "plt.bar([1,2,3,4,5,6,7,8,9,10,11,12],prcp_0_mean,color='purple')\n",
    "plt.xlabel(\"month\")\n",
    "plt.ylabel(\"precipitation (in)\")\n",
    "plt.title(\"Average monthly precipitation, 1940-2019\",y=1.01)"
   ]
  },
  {
   "cell_type": "code",
   "execution_count": null,
   "metadata": {},
   "outputs": [],
   "source": []
  },
  {
   "cell_type": "code",
   "execution_count": 86,
   "metadata": {},
   "outputs": [],
   "source": [
    "# create functions for automatically generating/fititng distributions \n",
    "def fit_to_distribution(distribution, a_list):\n",
    "    distribution = getattr(st, distribution)\n",
    "    params = distribution.fit(a_list)\n",
    "\n",
    "    return params\n",
    "\n",
    "\n",
    "def make_distribution_pdf(distribution, a_list):\n",
    "    distribution = getattr(st, distribution)\n",
    "    params = distribution.fit(a_list)\n",
    "\n",
    "    arg = params[:-2]\n",
    "    loc = params[-2]\n",
    "    scale = params[-1]\n",
    "    x = np.linspace(min(a_list), max(a_list),100)\n",
    "    y = distribution.pdf(x, loc=loc, scale=scale, *arg)\n",
    "    return x, y\n",
    "\n",
    "\n"
   ]
  },
  {
   "cell_type": "code",
   "execution_count": 87,
   "metadata": {},
   "outputs": [
    {
     "data": {
      "text/plain": [
       "4.409854349199579"
      ]
     },
     "execution_count": 87,
     "metadata": {},
     "output_type": "execute_result"
    }
   ],
   "source": [
    "#GEV fit/distribution\n",
    "*params,=fit_to_distribution('genextreme',df_year_group_prcp)\n",
    "x,y=make_distribution_pdf('genextreme',df_year_group_prcp)\n",
    "scipy.stats.genextreme.ppf(0.99,*params)"
   ]
  },
  {
   "cell_type": "code",
   "execution_count": 81,
   "metadata": {},
   "outputs": [
    {
     "data": {
      "text/plain": [
       "[<matplotlib.lines.Line2D at 0x160da310>]"
      ]
     },
     "execution_count": 81,
     "metadata": {},
     "output_type": "execute_result"
    },
    {
     "data": {
      "image/png": "[encoded data removed]",
      "text/plain": [
       "<Figure size 1080x576 with 1 Axes>"
      ]
     },
     "metadata": {
      "needs_background": "light"
     },
     "output_type": "display_data"
    }
   ],
   "source": [
    "#graph daily precpi\n",
    "fig,ax=plt.subplots(figsize=(15,8))\n",
    "ax.set_title('Daily precipitation (1940-2019)',fontsize=18)\n",
    "ax.set_xticks(xticks)\n",
    "ax.set_xticklabels([1940,1950,1960,1970,1980,1990,2000,2010,2020])\n",
    "ax.set_xlabel('year')\n",
    "ax.set_ylabel('precipitation (in)')\n",
    "ax.plot(prcp,color='navy')"
   ]
  },
  {
   "cell_type": "code",
   "execution_count": null,
   "metadata": {},
   "outputs": [],
   "source": []
  },
  {
   "cell_type": "code",
   "execution_count": 74,
   "metadata": {},
   "outputs": [],
   "source": []
  },
  {
   "cell_type": "code",
   "execution_count": 76,
   "metadata": {},
   "outputs": [
    {
     "data": {
      "text/plain": [
       "<bound method NDFrame.tail of            STATION                                     NAME        DATE  PRCP  \\\n",
       "0      USW00014837  MADISON DANE CO REGIONAL AIRPORT, WI US  1940-01-01  0.00   \n",
       "1      USW00014837  MADISON DANE CO REGIONAL AIRPORT, WI US  1940-01-02  0.00   \n",
       "2      USW00014837  MADISON DANE CO REGIONAL AIRPORT, WI US  1940-01-03  0.00   \n",
       "3      USW00014837  MADISON DANE CO REGIONAL AIRPORT, WI US  1940-01-04  0.00   \n",
       "4      USW00014837  MADISON DANE CO REGIONAL AIRPORT, WI US  1940-01-05  0.00   \n",
       "...            ...                                      ...         ...   ...   \n",
       "29216  USW00014837  MADISON DANE CO REGIONAL AIRPORT, WI US  2019-12-28  0.59   \n",
       "29217  USW00014837  MADISON DANE CO REGIONAL AIRPORT, WI US  2019-12-29  0.57   \n",
       "29218  USW00014837  MADISON DANE CO REGIONAL AIRPORT, WI US  2019-12-30  0.21   \n",
       "29219  USW00014837  MADISON DANE CO REGIONAL AIRPORT, WI US  2019-12-31  0.06   \n",
       "29220  USW00014837  MADISON DANE CO REGIONAL AIRPORT, WI US  2020-01-01  0.00   \n",
       "\n",
       "       year month doy  \n",
       "0      1940    01      \n",
       "1      1940    01      \n",
       "2      1940    01      \n",
       "3      1940    01      \n",
       "4      1940    01      \n",
       "...     ...   ...  ..  \n",
       "29216  2019    12      \n",
       "29217  2019    12      \n",
       "29218  2019    12      \n",
       "29219  2019    12      \n",
       "29220  2020    01      \n",
       "\n",
       "[29221 rows x 7 columns]>"
      ]
     },
     "execution_count": 76,
     "metadata": {},
     "output_type": "execute_result"
    }
   ],
   "source": [
    "kmsn.tail"
   ]
  },
  {
   "cell_type": "code",
   "execution_count": 107,
   "metadata": {},
   "outputs": [],
   "source": [
    "# EVERYTHING BELOW WAS USED TO CREATE A NEW DATASET WITH YEAR, MONTH, DAY SPLIT APART SO I COULD USE THE CODE IN R\n",
    "i=1\n",
    "doy=[]\n",
    "doy_leap_year=[]\n",
    "while i < 366:\n",
    "    doy.append(i)\n",
    "    i+=1\n",
    "i=1\n",
    "while i < 367:\n",
    "    doy_leap_year.append(i)\n",
    "    i+=1"
   ]
  },
  {
   "cell_type": "code",
   "execution_count": 111,
   "metadata": {},
   "outputs": [],
   "source": [
    "j=0\n",
    "j_array=[]\n",
    "while j < (2020-1940):\n",
    "    j_array.append(j)\n",
    "    j+=4\n"
   ]
  },
  {
   "cell_type": "code",
   "execution_count": 112,
   "metadata": {},
   "outputs": [
    {
     "data": {
      "text/plain": [
       "[0, 4, 8, 12, 16, 20, 24, 28, 32, 36, 40, 44, 48, 52, 56, 60, 64, 68, 72, 76]"
      ]
     },
     "execution_count": 112,
     "metadata": {},
     "output_type": "execute_result"
    }
   ],
   "source": [
    "j_array"
   ]
  },
  {
   "cell_type": "code",
   "execution_count": 128,
   "metadata": {},
   "outputs": [],
   "source": [
    "i=0\n",
    "doy_1940_2019=[]\n",
    "while i < (2020-1940):\n",
    "    doy_1940_2019.extend(doy_leap_year)\n",
    "    doy_1940_2019.extend(doy)\n",
    "    doy_1940_2019.extend(doy)\n",
    "    doy_1940_2019.extend(doy)\n",
    "    i+=4"
   ]
  },
  {
   "cell_type": "code",
   "execution_count": 129,
   "metadata": {},
   "outputs": [
    {
     "data": {
      "text/plain": [
       "29220"
      ]
     },
     "execution_count": 129,
     "metadata": {},
     "output_type": "execute_result"
    }
   ],
   "source": [
    "len(doy_1940_2019)"
   ]
  },
  {
   "cell_type": "code",
   "execution_count": 137,
   "metadata": {},
   "outputs": [],
   "source": [
    "kmsn[\"doy\"]=doy_1940_2019"
   ]
  },
  {
   "cell_type": "code",
   "execution_count": 138,
   "metadata": {},
   "outputs": [
    {
     "data": {
      "text/html": [
       "<div>\n",
       "<style scoped>\n",
       "    .dataframe tbody tr th:only-of-type {\n",
       "        vertical-align: middle;\n",
       "    }\n",
       "\n",
       "    .dataframe tbody tr th {\n",
       "        vertical-align: top;\n",
       "    }\n",
       "\n",
       "    .dataframe thead th {\n",
       "        text-align: right;\n",
       "    }\n",
       "</style>\n",
       "<table border=\"1\" class=\"dataframe\">\n",
       "  <thead>\n",
       "    <tr style=\"text-align: right;\">\n",
       "      <th></th>\n",
       "      <th>STATION</th>\n",
       "      <th>NAME</th>\n",
       "      <th>DATE</th>\n",
       "      <th>PRCP</th>\n",
       "      <th>year</th>\n",
       "      <th>month</th>\n",
       "      <th>doy</th>\n",
       "    </tr>\n",
       "  </thead>\n",
       "  <tbody>\n",
       "    <tr>\n",
       "      <th>0</th>\n",
       "      <td>USW00014837</td>\n",
       "      <td>MADISON DANE CO REGIONAL AIRPORT, WI US</td>\n",
       "      <td>1940-01-01</td>\n",
       "      <td>0.00</td>\n",
       "      <td>1940</td>\n",
       "      <td>01</td>\n",
       "      <td>1</td>\n",
       "    </tr>\n",
       "    <tr>\n",
       "      <th>1</th>\n",
       "      <td>USW00014837</td>\n",
       "      <td>MADISON DANE CO REGIONAL AIRPORT, WI US</td>\n",
       "      <td>1940-01-02</td>\n",
       "      <td>0.00</td>\n",
       "      <td>1940</td>\n",
       "      <td>01</td>\n",
       "      <td>2</td>\n",
       "    </tr>\n",
       "    <tr>\n",
       "      <th>2</th>\n",
       "      <td>USW00014837</td>\n",
       "      <td>MADISON DANE CO REGIONAL AIRPORT, WI US</td>\n",
       "      <td>1940-01-03</td>\n",
       "      <td>0.00</td>\n",
       "      <td>1940</td>\n",
       "      <td>01</td>\n",
       "      <td>3</td>\n",
       "    </tr>\n",
       "    <tr>\n",
       "      <th>3</th>\n",
       "      <td>USW00014837</td>\n",
       "      <td>MADISON DANE CO REGIONAL AIRPORT, WI US</td>\n",
       "      <td>1940-01-04</td>\n",
       "      <td>0.00</td>\n",
       "      <td>1940</td>\n",
       "      <td>01</td>\n",
       "      <td>4</td>\n",
       "    </tr>\n",
       "    <tr>\n",
       "      <th>4</th>\n",
       "      <td>USW00014837</td>\n",
       "      <td>MADISON DANE CO REGIONAL AIRPORT, WI US</td>\n",
       "      <td>1940-01-05</td>\n",
       "      <td>0.00</td>\n",
       "      <td>1940</td>\n",
       "      <td>01</td>\n",
       "      <td>5</td>\n",
       "    </tr>\n",
       "    <tr>\n",
       "      <th>...</th>\n",
       "      <td>...</td>\n",
       "      <td>...</td>\n",
       "      <td>...</td>\n",
       "      <td>...</td>\n",
       "      <td>...</td>\n",
       "      <td>...</td>\n",
       "      <td>...</td>\n",
       "    </tr>\n",
       "    <tr>\n",
       "      <th>29215</th>\n",
       "      <td>USW00014837</td>\n",
       "      <td>MADISON DANE CO REGIONAL AIRPORT, WI US</td>\n",
       "      <td>2019-12-27</td>\n",
       "      <td>0.00</td>\n",
       "      <td>2019</td>\n",
       "      <td>12</td>\n",
       "      <td>361</td>\n",
       "    </tr>\n",
       "    <tr>\n",
       "      <th>29216</th>\n",
       "      <td>USW00014837</td>\n",
       "      <td>MADISON DANE CO REGIONAL AIRPORT, WI US</td>\n",
       "      <td>2019-12-28</td>\n",
       "      <td>0.59</td>\n",
       "      <td>2019</td>\n",
       "      <td>12</td>\n",
       "      <td>362</td>\n",
       "    </tr>\n",
       "    <tr>\n",
       "      <th>29217</th>\n",
       "      <td>USW00014837</td>\n",
       "      <td>MADISON DANE CO REGIONAL AIRPORT, WI US</td>\n",
       "      <td>2019-12-29</td>\n",
       "      <td>0.57</td>\n",
       "      <td>2019</td>\n",
       "      <td>12</td>\n",
       "      <td>363</td>\n",
       "    </tr>\n",
       "    <tr>\n",
       "      <th>29218</th>\n",
       "      <td>USW00014837</td>\n",
       "      <td>MADISON DANE CO REGIONAL AIRPORT, WI US</td>\n",
       "      <td>2019-12-30</td>\n",
       "      <td>0.21</td>\n",
       "      <td>2019</td>\n",
       "      <td>12</td>\n",
       "      <td>364</td>\n",
       "    </tr>\n",
       "    <tr>\n",
       "      <th>29219</th>\n",
       "      <td>USW00014837</td>\n",
       "      <td>MADISON DANE CO REGIONAL AIRPORT, WI US</td>\n",
       "      <td>2019-12-31</td>\n",
       "      <td>0.06</td>\n",
       "      <td>2019</td>\n",
       "      <td>12</td>\n",
       "      <td>365</td>\n",
       "    </tr>\n",
       "  </tbody>\n",
       "</table>\n",
       "<p>29220 rows × 7 columns</p>\n",
       "</div>"
      ],
      "text/plain": [
       "           STATION                                     NAME        DATE  PRCP  \\\n",
       "0      USW00014837  MADISON DANE CO REGIONAL AIRPORT, WI US  1940-01-01  0.00   \n",
       "1      USW00014837  MADISON DANE CO REGIONAL AIRPORT, WI US  1940-01-02  0.00   \n",
       "2      USW00014837  MADISON DANE CO REGIONAL AIRPORT, WI US  1940-01-03  0.00   \n",
       "3      USW00014837  MADISON DANE CO REGIONAL AIRPORT, WI US  1940-01-04  0.00   \n",
       "4      USW00014837  MADISON DANE CO REGIONAL AIRPORT, WI US  1940-01-05  0.00   \n",
       "...            ...                                      ...         ...   ...   \n",
       "29215  USW00014837  MADISON DANE CO REGIONAL AIRPORT, WI US  2019-12-27  0.00   \n",
       "29216  USW00014837  MADISON DANE CO REGIONAL AIRPORT, WI US  2019-12-28  0.59   \n",
       "29217  USW00014837  MADISON DANE CO REGIONAL AIRPORT, WI US  2019-12-29  0.57   \n",
       "29218  USW00014837  MADISON DANE CO REGIONAL AIRPORT, WI US  2019-12-30  0.21   \n",
       "29219  USW00014837  MADISON DANE CO REGIONAL AIRPORT, WI US  2019-12-31  0.06   \n",
       "\n",
       "       year month  doy  \n",
       "0      1940    01    1  \n",
       "1      1940    01    2  \n",
       "2      1940    01    3  \n",
       "3      1940    01    4  \n",
       "4      1940    01    5  \n",
       "...     ...   ...  ...  \n",
       "29215  2019    12  361  \n",
       "29216  2019    12  362  \n",
       "29217  2019    12  363  \n",
       "29218  2019    12  364  \n",
       "29219  2019    12  365  \n",
       "\n",
       "[29220 rows x 7 columns]"
      ]
     },
     "execution_count": 138,
     "metadata": {},
     "output_type": "execute_result"
    }
   ],
   "source": [
    "kmsn"
   ]
  },
  {
   "cell_type": "code",
   "execution_count": 141,
   "metadata": {},
   "outputs": [],
   "source": [
    "kmsn['day']=kmsn['DATE'].str.strip().str[-2:]"
   ]
  },
  {
   "cell_type": "code",
   "execution_count": 144,
   "metadata": {},
   "outputs": [],
   "source": [
    "kmsn.to_csv('kmsn_1.csv')"
   ]
  },
  {
   "cell_type": "code",
   "execution_count": null,
   "metadata": {},
   "outputs": [],
   "source": []
  },
  {
   "cell_type": "code",
   "execution_count": null,
   "metadata": {},
   "outputs": [],
   "source": []
  }
 ],
 "metadata": {
  "kernelspec": {
   "display_name": "Python 3",
   "language": "python",
   "name": "python3"
  },
  "language_info": {
   "codemirror_mode": {
    "name": "ipython",
    "version": 3
   },
   "file_extension": ".py",
   "mimetype": "text/x-python",
   "name": "python",
   "nbconvert_exporter": "python",
   "pygments_lexer": "ipython3",
   "version": "3.8.5"
  }
 },
 "nbformat": 4,
 "nbformat_minor": 4
}
